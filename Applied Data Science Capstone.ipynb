{
    "cells": [
        {
            "cell_type": "markdown",
            "metadata": {
                "collapsed": true
            },
            "source": "<b>This notebook will be mainly used for the capstone project.</b>"
        },
        {
            "cell_type": "code",
            "execution_count": 1,
            "metadata": {},
            "outputs": [
                {
                    "name": "stdout",
                    "output_type": "stream",
                    "text": "Hello Capstone Project Course!\n"
                }
            ],
            "source": "import pandas as pd\nimport numpy as np\nprint(\"Hello Capstone Project Course!\")"
        },
        {
            "cell_type": "code",
            "execution_count": 2,
            "metadata": {},
            "outputs": [
                {
                    "name": "stderr",
                    "output_type": "stream",
                    "text": "/opt/conda/envs/Python36/lib/python3.6/site-packages/IPython/core/interactiveshell.py:3020: DtypeWarning: Columns (33) have mixed types. Specify dtype option on import or set low_memory=False.\n  interactivity=interactivity, compiler=compiler, result=result)\n"
                }
            ],
            "source": "collisions_dataframe = pd.read_csv('https://s3.us.cloud-object-storage.appdomain.cloud/cf-courses-data/CognitiveClass/DP0701EN/version-2/Data-Collisions.csv')"
        },
        {
            "cell_type": "code",
            "execution_count": 3,
            "metadata": {},
            "outputs": [
                {
                    "data": {
                        "text/plain": "Index(['SEVERITYCODE', 'X', 'Y', 'OBJECTID', 'INCKEY', 'COLDETKEY', 'REPORTNO',\n       'STATUS', 'ADDRTYPE', 'INTKEY', 'LOCATION', 'EXCEPTRSNCODE',\n       'EXCEPTRSNDESC', 'SEVERITYCODE.1', 'SEVERITYDESC', 'COLLISIONTYPE',\n       'PERSONCOUNT', 'PEDCOUNT', 'PEDCYLCOUNT', 'VEHCOUNT', 'INCDATE',\n       'INCDTTM', 'JUNCTIONTYPE', 'SDOT_COLCODE', 'SDOT_COLDESC',\n       'INATTENTIONIND', 'UNDERINFL', 'WEATHER', 'ROADCOND', 'LIGHTCOND',\n       'PEDROWNOTGRNT', 'SDOTCOLNUM', 'SPEEDING', 'ST_COLCODE', 'ST_COLDESC',\n       'SEGLANEKEY', 'CROSSWALKKEY', 'HITPARKEDCAR'],\n      dtype='object')"
                    },
                    "execution_count": 3,
                    "metadata": {},
                    "output_type": "execute_result"
                }
            ],
            "source": "collisions_dataframe.columns"
        },
        {
            "cell_type": "code",
            "execution_count": 4,
            "metadata": {},
            "outputs": [
                {
                    "name": "stdout",
                    "output_type": "stream",
                    "text": "(194673, 12)\n"
                },
                {
                    "data": {
                        "text/html": "<div>\n<style scoped>\n    .dataframe tbody tr th:only-of-type {\n        vertical-align: middle;\n    }\n\n    .dataframe tbody tr th {\n        vertical-align: top;\n    }\n\n    .dataframe thead th {\n        text-align: right;\n    }\n</style>\n<table border=\"1\" class=\"dataframe\">\n  <thead>\n    <tr style=\"text-align: right;\">\n      <th></th>\n      <th>SEVERITYCODE</th>\n      <th>LOCATION</th>\n      <th>PERSONCOUNT</th>\n      <th>VEHCOUNT</th>\n      <th>JUNCTIONTYPE</th>\n      <th>INATTENTIONIND</th>\n      <th>UNDERINFL</th>\n      <th>WEATHER</th>\n      <th>ROADCOND</th>\n      <th>LIGHTCOND</th>\n      <th>PEDROWNOTGRNT</th>\n      <th>SPEEDING</th>\n    </tr>\n  </thead>\n  <tbody>\n    <tr>\n      <th>0</th>\n      <td>2</td>\n      <td>5TH AVE NE AND NE 103RD ST</td>\n      <td>2</td>\n      <td>2</td>\n      <td>At Intersection (intersection related)</td>\n      <td>NaN</td>\n      <td>N</td>\n      <td>Overcast</td>\n      <td>Wet</td>\n      <td>Daylight</td>\n      <td>NaN</td>\n      <td>NaN</td>\n    </tr>\n    <tr>\n      <th>1</th>\n      <td>1</td>\n      <td>AURORA BR BETWEEN RAYE ST AND BRIDGE WAY N</td>\n      <td>2</td>\n      <td>2</td>\n      <td>Mid-Block (not related to intersection)</td>\n      <td>NaN</td>\n      <td>0</td>\n      <td>Raining</td>\n      <td>Wet</td>\n      <td>Dark - Street Lights On</td>\n      <td>NaN</td>\n      <td>NaN</td>\n    </tr>\n    <tr>\n      <th>2</th>\n      <td>1</td>\n      <td>4TH AVE BETWEEN SENECA ST AND UNIVERSITY ST</td>\n      <td>4</td>\n      <td>3</td>\n      <td>Mid-Block (not related to intersection)</td>\n      <td>NaN</td>\n      <td>0</td>\n      <td>Overcast</td>\n      <td>Dry</td>\n      <td>Daylight</td>\n      <td>NaN</td>\n      <td>NaN</td>\n    </tr>\n    <tr>\n      <th>3</th>\n      <td>1</td>\n      <td>2ND AVE BETWEEN MARION ST AND MADISON ST</td>\n      <td>3</td>\n      <td>3</td>\n      <td>Mid-Block (not related to intersection)</td>\n      <td>NaN</td>\n      <td>N</td>\n      <td>Clear</td>\n      <td>Dry</td>\n      <td>Daylight</td>\n      <td>NaN</td>\n      <td>NaN</td>\n    </tr>\n    <tr>\n      <th>4</th>\n      <td>2</td>\n      <td>SWIFT AVE S AND SWIFT AV OFF RP</td>\n      <td>2</td>\n      <td>2</td>\n      <td>At Intersection (intersection related)</td>\n      <td>NaN</td>\n      <td>0</td>\n      <td>Raining</td>\n      <td>Wet</td>\n      <td>Daylight</td>\n      <td>NaN</td>\n      <td>NaN</td>\n    </tr>\n  </tbody>\n</table>\n</div>",
                        "text/plain": "   SEVERITYCODE                                     LOCATION  PERSONCOUNT  \\\n0             2                   5TH AVE NE AND NE 103RD ST            2   \n1             1   AURORA BR BETWEEN RAYE ST AND BRIDGE WAY N            2   \n2             1  4TH AVE BETWEEN SENECA ST AND UNIVERSITY ST            4   \n3             1     2ND AVE BETWEEN MARION ST AND MADISON ST            3   \n4             2              SWIFT AVE S AND SWIFT AV OFF RP            2   \n\n   VEHCOUNT                             JUNCTIONTYPE INATTENTIONIND UNDERINFL  \\\n0         2   At Intersection (intersection related)            NaN         N   \n1         2  Mid-Block (not related to intersection)            NaN         0   \n2         3  Mid-Block (not related to intersection)            NaN         0   \n3         3  Mid-Block (not related to intersection)            NaN         N   \n4         2   At Intersection (intersection related)            NaN         0   \n\n    WEATHER ROADCOND                LIGHTCOND PEDROWNOTGRNT SPEEDING  \n0  Overcast      Wet                 Daylight           NaN      NaN  \n1   Raining      Wet  Dark - Street Lights On           NaN      NaN  \n2  Overcast      Dry                 Daylight           NaN      NaN  \n3     Clear      Dry                 Daylight           NaN      NaN  \n4   Raining      Wet                 Daylight           NaN      NaN  "
                    },
                    "execution_count": 4,
                    "metadata": {},
                    "output_type": "execute_result"
                }
            ],
            "source": "#removing columns that are unneeded and selecting columns that are relevant\ncollisions_dataframe_cleaned = collisions_dataframe[[\"SEVERITYCODE\", \"LOCATION\", \"PERSONCOUNT\", \"VEHCOUNT\", \"JUNCTIONTYPE\", \n                                                     \"INATTENTIONIND\", \"UNDERINFL\", \"WEATHER\", \"ROADCOND\", \"LIGHTCOND\", \"PEDROWNOTGRNT\", \"SPEEDING\"]]\nprint(collisions_dataframe_cleaned.shape)\ncollisions_dataframe_cleaned.head(5)"
        },
        {
            "cell_type": "code",
            "execution_count": 5,
            "metadata": {},
            "outputs": [
                {
                    "data": {
                        "text/plain": "SEVERITYCODE           0\nLOCATION            2677\nPERSONCOUNT            0\nVEHCOUNT               0\nJUNCTIONTYPE        6329\nINATTENTIONIND    164868\nUNDERINFL           4884\nWEATHER             5081\nROADCOND            5012\nLIGHTCOND           5170\nPEDROWNOTGRNT     190006\nSPEEDING          185340\ndtype: int64"
                    },
                    "execution_count": 5,
                    "metadata": {},
                    "output_type": "execute_result"
                }
            ],
            "source": "#identifying rows that have NaN values, and prepare to clean them\ncollisions_dataframe_cleaned.isna().sum()"
        },
        {
            "cell_type": "code",
            "execution_count": 6,
            "metadata": {},
            "outputs": [
                {
                    "name": "stdout",
                    "output_type": "stream",
                    "text": "(191996, 12)\n"
                },
                {
                    "name": "stderr",
                    "output_type": "stream",
                    "text": "/opt/conda/envs/Python36/lib/python3.6/site-packages/ipykernel/__main__.py:2: SettingWithCopyWarning: \nA value is trying to be set on a copy of a slice from a DataFrame\n\nSee the caveats in the documentation: http://pandas.pydata.org/pandas-docs/stable/indexing.html#indexing-view-versus-copy\n  from ipykernel import kernelapp as app\n"
                },
                {
                    "data": {
                        "text/plain": "SEVERITYCODE           0\nLOCATION               0\nPERSONCOUNT            0\nVEHCOUNT               0\nJUNCTIONTYPE        4218\nINATTENTIONIND    162416\nUNDERINFL           4773\nWEATHER             4963\nROADCOND            4896\nLIGHTCOND           5052\nPEDROWNOTGRNT     187341\nSPEEDING          182750\ndtype: int64"
                    },
                    "execution_count": 6,
                    "metadata": {},
                    "output_type": "execute_result"
                }
            ],
            "source": "#For Location : remove rows that doesn't have a location\ncollisions_dataframe_cleaned.dropna(subset=['LOCATION'], inplace=True)\nprint(collisions_dataframe_cleaned.shape)\ncollisions_dataframe_cleaned.isna().sum()"
        },
        {
            "cell_type": "code",
            "execution_count": 8,
            "metadata": {},
            "outputs": [
                {
                    "name": "stdout",
                    "output_type": "stream",
                    "text": "Mid-Block (not related to intersection)              89341\nAt Intersection (intersection related)               62786\nMid-Block (but intersection related)                 22775\nDriveway Junction                                    10611\nAt Intersection (but not related to intersection)     2095\nRamp Junction                                          164\nUnknown                                                  6\nName: JUNCTIONTYPE, dtype: int64\nMid-Block (not related to intersection)              89341\nAt Intersection (intersection related)               62786\nMid-Block (but intersection related)                 22775\nDriveway Junction                                    10611\nUnknown                                               4224\nAt Intersection (but not related to intersection)     2095\nRamp Junction                                          164\nName: JUNCTIONTYPE, dtype: int64\n"
                },
                {
                    "name": "stderr",
                    "output_type": "stream",
                    "text": "/opt/conda/envs/Python36/lib/python3.6/site-packages/ipykernel/__main__.py:3: SettingWithCopyWarning: \nA value is trying to be set on a copy of a slice from a DataFrame.\nTry using .loc[row_indexer,col_indexer] = value instead\n\nSee the caveats in the documentation: http://pandas.pydata.org/pandas-docs/stable/indexing.html#indexing-view-versus-copy\n  app.launch_new_instance()\n"
                },
                {
                    "data": {
                        "text/plain": "SEVERITYCODE           0\nLOCATION               0\nPERSONCOUNT            0\nVEHCOUNT               0\nJUNCTIONTYPE           0\nINATTENTIONIND    162416\nUNDERINFL           4773\nWEATHER             4963\nROADCOND            4896\nLIGHTCOND           5052\nPEDROWNOTGRNT     187341\nSPEEDING          182750\ndtype: int64"
                    },
                    "execution_count": 8,
                    "metadata": {},
                    "output_type": "execute_result"
                }
            ],
            "source": "#For JUNCTIONTYPE : Replacing NaN with Unknowns\nprint(collisions_dataframe_cleaned[\"JUNCTIONTYPE\"].value_counts())\ncollisions_dataframe_cleaned[\"JUNCTIONTYPE\"] = collisions_dataframe_cleaned[\"JUNCTIONTYPE\"].fillna(\"Unknown\")\nprint(collisions_dataframe_cleaned[\"JUNCTIONTYPE\"].value_counts())\ncollisions_dataframe_cleaned.isna().sum()"
        },
        {
            "cell_type": "code",
            "execution_count": 11,
            "metadata": {},
            "outputs": [
                {
                    "name": "stdout",
                    "output_type": "stream",
                    "text": "N    162416\nY     29580\nName: INATTENTIONIND, dtype: int64\nN    162416\nY     29580\nName: INATTENTIONIND, dtype: int64\n"
                },
                {
                    "name": "stderr",
                    "output_type": "stream",
                    "text": "/opt/conda/envs/Python36/lib/python3.6/site-packages/ipykernel/__main__.py:3: SettingWithCopyWarning: \nA value is trying to be set on a copy of a slice from a DataFrame.\nTry using .loc[row_indexer,col_indexer] = value instead\n\nSee the caveats in the documentation: http://pandas.pydata.org/pandas-docs/stable/indexing.html#indexing-view-versus-copy\n  app.launch_new_instance()\n"
                },
                {
                    "data": {
                        "text/plain": "SEVERITYCODE           0\nLOCATION               0\nPERSONCOUNT            0\nVEHCOUNT               0\nJUNCTIONTYPE           0\nINATTENTIONIND         0\nUNDERINFL           4773\nWEATHER             4963\nROADCOND            4896\nLIGHTCOND           5052\nPEDROWNOTGRNT     187341\nSPEEDING          182750\ndtype: int64"
                    },
                    "execution_count": 11,
                    "metadata": {},
                    "output_type": "execute_result"
                }
            ],
            "source": "#For INATTENTIONIND : Replacing NaN with N (for no)\nprint(collisions_dataframe_cleaned[\"INATTENTIONIND\"].value_counts())\ncollisions_dataframe_cleaned[\"INATTENTIONIND\"] = collisions_dataframe_cleaned[\"INATTENTIONIND\"].fillna(\"N\")\nprint(collisions_dataframe_cleaned[\"INATTENTIONIND\"].value_counts()) \ncollisions_dataframe_cleaned.isna().sum()"
        },
        {
            "cell_type": "code",
            "execution_count": 13,
            "metadata": {},
            "outputs": [
                {
                    "name": "stdout",
                    "output_type": "stream",
                    "text": "(187223, 12)\n"
                },
                {
                    "name": "stderr",
                    "output_type": "stream",
                    "text": "/opt/conda/envs/Python36/lib/python3.6/site-packages/ipykernel/__main__.py:2: SettingWithCopyWarning: \nA value is trying to be set on a copy of a slice from a DataFrame\n\nSee the caveats in the documentation: http://pandas.pydata.org/pandas-docs/stable/indexing.html#indexing-view-versus-copy\n  from ipykernel import kernelapp as app\n"
                },
                {
                    "data": {
                        "text/plain": "SEVERITYCODE           0\nLOCATION               0\nPERSONCOUNT            0\nVEHCOUNT               0\nJUNCTIONTYPE           0\nINATTENTIONIND         0\nUNDERINFL              0\nWEATHER              190\nROADCOND             123\nLIGHTCOND            279\nPEDROWNOTGRNT     182568\nSPEEDING          177977\ndtype: int64"
                    },
                    "execution_count": 13,
                    "metadata": {},
                    "output_type": "execute_result"
                }
            ],
            "source": "#For UNDERINFL : remove rows that doesn't have a specific value\ncollisions_dataframe_cleaned.dropna(subset=['UNDERINFL'], inplace=True)\nprint(collisions_dataframe_cleaned.shape)\ncollisions_dataframe_cleaned.isna().sum()"
        },
        {
            "cell_type": "code",
            "execution_count": 15,
            "metadata": {},
            "outputs": [
                {
                    "name": "stdout",
                    "output_type": "stream",
                    "text": "Clear                       110194\nRaining                      32915\nOvercast                     27486\nUnknown                      13999\nSnowing                        900\nOther                          787\nFog/Smog/Smoke                 560\nSleet/Hail/Freezing Rain       112\nBlowing Sand/Dirt               50\nSevere Crosswind                25\nPartly Cloudy                    5\nName: WEATHER, dtype: int64\nClear                       110194\nRaining                      32915\nOvercast                     27486\nUnknown                      14189\nSnowing                        900\nOther                          787\nFog/Smog/Smoke                 560\nSleet/Hail/Freezing Rain       112\nBlowing Sand/Dirt               50\nSevere Crosswind                25\nPartly Cloudy                    5\nName: WEATHER, dtype: int64\n"
                },
                {
                    "name": "stderr",
                    "output_type": "stream",
                    "text": "/opt/conda/envs/Python36/lib/python3.6/site-packages/ipykernel/__main__.py:3: SettingWithCopyWarning: \nA value is trying to be set on a copy of a slice from a DataFrame.\nTry using .loc[row_indexer,col_indexer] = value instead\n\nSee the caveats in the documentation: http://pandas.pydata.org/pandas-docs/stable/indexing.html#indexing-view-versus-copy\n  app.launch_new_instance()\n"
                },
                {
                    "data": {
                        "text/plain": "SEVERITYCODE           0\nLOCATION               0\nPERSONCOUNT            0\nVEHCOUNT               0\nJUNCTIONTYPE           0\nINATTENTIONIND         0\nUNDERINFL              0\nWEATHER                0\nROADCOND             123\nLIGHTCOND            279\nPEDROWNOTGRNT     182568\nSPEEDING          177977\ndtype: int64"
                    },
                    "execution_count": 15,
                    "metadata": {},
                    "output_type": "execute_result"
                }
            ],
            "source": "#For WEATHER : Replacing NaN with Unknown\nprint(collisions_dataframe_cleaned[\"WEATHER\"].value_counts())\ncollisions_dataframe_cleaned[\"WEATHER\"] = collisions_dataframe_cleaned[\"WEATHER\"].fillna(\"Unknown\")\nprint(collisions_dataframe_cleaned[\"WEATHER\"].value_counts())\ncollisions_dataframe_cleaned.isna().sum()"
        },
        {
            "cell_type": "code",
            "execution_count": 17,
            "metadata": {},
            "outputs": [
                {
                    "name": "stdout",
                    "output_type": "stream",
                    "text": "Dry               123455\nWet                47146\nUnknown            13946\nIce                 1192\nSnow/Slush           995\nOther                125\nStanding Water       111\nSand/Mud/Dirt         66\nOil                   64\nName: ROADCOND, dtype: int64\nDry               123455\nWet                47146\nUnknown            14069\nIce                 1192\nSnow/Slush           995\nOther                125\nStanding Water       111\nSand/Mud/Dirt         66\nOil                   64\nName: ROADCOND, dtype: int64\n"
                },
                {
                    "name": "stderr",
                    "output_type": "stream",
                    "text": "/opt/conda/envs/Python36/lib/python3.6/site-packages/ipykernel/__main__.py:3: SettingWithCopyWarning: \nA value is trying to be set on a copy of a slice from a DataFrame.\nTry using .loc[row_indexer,col_indexer] = value instead\n\nSee the caveats in the documentation: http://pandas.pydata.org/pandas-docs/stable/indexing.html#indexing-view-versus-copy\n  app.launch_new_instance()\n"
                },
                {
                    "data": {
                        "text/plain": "SEVERITYCODE           0\nLOCATION               0\nPERSONCOUNT            0\nVEHCOUNT               0\nJUNCTIONTYPE           0\nINATTENTIONIND         0\nUNDERINFL              0\nWEATHER                0\nROADCOND               0\nLIGHTCOND            279\nPEDROWNOTGRNT     182568\nSPEEDING          177977\ndtype: int64"
                    },
                    "execution_count": 17,
                    "metadata": {},
                    "output_type": "execute_result"
                }
            ],
            "source": "#For ROADCOND : Replacing NaN with Unknown\nprint(collisions_dataframe_cleaned[\"ROADCOND\"].value_counts())\ncollisions_dataframe_cleaned[\"ROADCOND\"] = collisions_dataframe_cleaned[\"ROADCOND\"].fillna(\"Unknown\")\nprint(collisions_dataframe_cleaned[\"ROADCOND\"].value_counts())\ncollisions_dataframe_cleaned.isna().sum()"
        },
        {
            "cell_type": "code",
            "execution_count": 19,
            "metadata": {},
            "outputs": [
                {
                    "name": "stdout",
                    "output_type": "stream",
                    "text": "Daylight                    115085\nDark - Street Lights On      48136\nUnknown                      12513\nDusk                          5837\nDawn                          2483\nDark - No Street Lights       1477\nDark - Street Lights Off      1176\nOther                          226\nDark - Unknown Lighting         11\nName: LIGHTCOND, dtype: int64\nDaylight                    115085\nDark - Street Lights On      48136\nUnknown                      12792\nDusk                          5837\nDawn                          2483\nDark - No Street Lights       1477\nDark - Street Lights Off      1176\nOther                          226\nDark - Unknown Lighting         11\nName: LIGHTCOND, dtype: int64\n"
                },
                {
                    "name": "stderr",
                    "output_type": "stream",
                    "text": "/opt/conda/envs/Python36/lib/python3.6/site-packages/ipykernel/__main__.py:3: SettingWithCopyWarning: \nA value is trying to be set on a copy of a slice from a DataFrame.\nTry using .loc[row_indexer,col_indexer] = value instead\n\nSee the caveats in the documentation: http://pandas.pydata.org/pandas-docs/stable/indexing.html#indexing-view-versus-copy\n  app.launch_new_instance()\n"
                },
                {
                    "data": {
                        "text/plain": "SEVERITYCODE           0\nLOCATION               0\nPERSONCOUNT            0\nVEHCOUNT               0\nJUNCTIONTYPE           0\nINATTENTIONIND         0\nUNDERINFL              0\nWEATHER                0\nROADCOND               0\nLIGHTCOND              0\nPEDROWNOTGRNT     182568\nSPEEDING          177977\ndtype: int64"
                    },
                    "execution_count": 19,
                    "metadata": {},
                    "output_type": "execute_result"
                }
            ],
            "source": "#For LIGHTCOND : Replacing NaN with Unknown\nprint(collisions_dataframe_cleaned[\"LIGHTCOND\"].value_counts())\ncollisions_dataframe_cleaned[\"LIGHTCOND\"] = collisions_dataframe_cleaned[\"LIGHTCOND\"].fillna(\"Unknown\")\nprint(collisions_dataframe_cleaned[\"LIGHTCOND\"].value_counts())\ncollisions_dataframe_cleaned.isna().sum()"
        },
        {
            "cell_type": "code",
            "execution_count": null,
            "metadata": {},
            "outputs": [],
            "source": "#For LIGHTCOND : Replacing NaN with N\nprint(collisions_dataframe_cleaned[\"PEDROWNOTGRNT\"].value_counts())\ncollisions_dataframe_cleaned[\"LIGHTCOND\"] = collisions_dataframe_cleaned[\"LIGHTCOND\"].fillna(\"Unknown\")\nprint(collisions_dataframe_cleaned[\"LIGHTCOND\"].value_counts())\ncollisions_dataframe_cleaned.isna().sum()"
        }
    ],
    "metadata": {
        "kernelspec": {
            "display_name": "Python 3.6",
            "language": "python",
            "name": "python3"
        },
        "language_info": {
            "codemirror_mode": {
                "name": "ipython",
                "version": 3
            },
            "file_extension": ".py",
            "mimetype": "text/x-python",
            "name": "python",
            "nbconvert_exporter": "python",
            "pygments_lexer": "ipython3",
            "version": "3.6.9"
        }
    },
    "nbformat": 4,
    "nbformat_minor": 1
}